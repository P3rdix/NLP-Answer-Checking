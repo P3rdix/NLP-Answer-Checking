{
 "cells": [
  {
   "cell_type": "code",
   "execution_count": 1,
   "id": "92e2b815",
   "metadata": {},
   "outputs": [
    {
     "name": "stderr",
     "output_type": "stream",
     "text": [
      "2024-04-08 08:25:15.371775: I tensorflow/core/util/port.cc:110] oneDNN custom operations are on. You may see slightly different numerical results due to floating-point round-off errors from different computation orders. To turn them off, set the environment variable `TF_ENABLE_ONEDNN_OPTS=0`.\n",
      "2024-04-08 08:25:15.444107: I tensorflow/tsl/cuda/cudart_stub.cc:28] Could not find cuda drivers on your machine, GPU will not be used.\n",
      "2024-04-08 08:25:15.820866: I tensorflow/tsl/cuda/cudart_stub.cc:28] Could not find cuda drivers on your machine, GPU will not be used.\n",
      "2024-04-08 08:25:15.822546: I tensorflow/core/platform/cpu_feature_guard.cc:182] This TensorFlow binary is optimized to use available CPU instructions in performance-critical operations.\n",
      "To enable the following instructions: AVX2 AVX512F AVX512_VNNI FMA, in other operations, rebuild TensorFlow with the appropriate compiler flags.\n",
      "2024-04-08 08:25:16.708367: W tensorflow/compiler/tf2tensorrt/utils/py_utils.cc:38] TF-TRT Warning: Could not find TensorRT\n"
     ]
    }
   ],
   "source": [
    "import pandas as pd\n",
    "import numpy as np\n",
    "\n",
    "import fasttext\n",
    "from sklearn.model_selection import train_test_split\n",
    "\n",
    "from tensorflow.keras.layers import Dense, Dropout\n",
    "from tensorflow.keras.models import Sequential\n",
    "from tensorflow.keras.callbacks import EarlyStopping, ReduceLROnPlateau"
   ]
  },
  {
   "cell_type": "code",
   "execution_count": 2,
   "id": "eca659c4",
   "metadata": {},
   "outputs": [
    {
     "data": {
      "text/html": [
       "<div>\n",
       "<style scoped>\n",
       "    .dataframe tbody tr th:only-of-type {\n",
       "        vertical-align: middle;\n",
       "    }\n",
       "\n",
       "    .dataframe tbody tr th {\n",
       "        vertical-align: top;\n",
       "    }\n",
       "\n",
       "    .dataframe thead th {\n",
       "        text-align: right;\n",
       "    }\n",
       "</style>\n",
       "<table border=\"1\" class=\"dataframe\">\n",
       "  <thead>\n",
       "    <tr style=\"text-align: right;\">\n",
       "      <th></th>\n",
       "      <th>News Articles</th>\n",
       "      <th>Summary</th>\n",
       "      <th>Unlike</th>\n",
       "    </tr>\n",
       "  </thead>\n",
       "  <tbody>\n",
       "    <tr>\n",
       "      <th>0</th>\n",
       "      <td>[think, real, danger, happens, data, cross, ne...</td>\n",
       "      <td>[however, careful, may, organisation, trust, p...</td>\n",
       "      <td>[eu, aiming, fuel, development, aid, european,...</td>\n",
       "    </tr>\n",
       "    <tr>\n",
       "      <th>1</th>\n",
       "      <td>[fast, moving, phone, virus, appear, security,...</td>\n",
       "      <td>[new, strain, cabir, mobile, phone, virus, use...</td>\n",
       "      <td>[uk, house, price, dip, november, uk, house, p...</td>\n",
       "    </tr>\n",
       "    <tr>\n",
       "      <th>2</th>\n",
       "      <td>[seaman, sail, biometric, future, luxury, crui...</td>\n",
       "      <td>[said, french, jordanian, nigerian, national, ...</td>\n",
       "      <td>[redknapp, poised, saint, southampton, set, un...</td>\n",
       "    </tr>\n",
       "    <tr>\n",
       "      <th>3</th>\n",
       "      <td>[cable, offer, videoondemand, cable, firm, ntl...</td>\n",
       "      <td>[cable, firm, ntl, telewest, launched, videoon...</td>\n",
       "      <td>[green, report, shun, supply, chain, nearly, 2...</td>\n",
       "    </tr>\n",
       "    <tr>\n",
       "      <th>4</th>\n",
       "      <td>[make, greener, computer, hitech, industry, st...</td>\n",
       "      <td>[seeing, thing, technology, industry, result, ...</td>\n",
       "      <td>[adrianos, chelsea, link, rejected, adrianos, ...</td>\n",
       "    </tr>\n",
       "    <tr>\n",
       "      <th>...</th>\n",
       "      <td>...</td>\n",
       "      <td>...</td>\n",
       "      <td>...</td>\n",
       "    </tr>\n",
       "    <tr>\n",
       "      <th>2220</th>\n",
       "      <td>[circuit, city, get, takeover, offer, circuit,...</td>\n",
       "      <td>[bill, armstrong, retail, analyst, cl, king, a...</td>\n",
       "      <td>[roddick, san, jose, final, andy, roddick, pla...</td>\n",
       "    </tr>\n",
       "    <tr>\n",
       "      <th>2221</th>\n",
       "      <td>[german, business, confidence, slide, german, ...</td>\n",
       "      <td>[analyst, said, ifo, figure, germany, continui...</td>\n",
       "      <td>[richard, judy, choose, top, book, 10, author,...</td>\n",
       "    </tr>\n",
       "    <tr>\n",
       "      <th>2222</th>\n",
       "      <td>[walmart, fight, back, accuser, two, big, u, n...</td>\n",
       "      <td>[meanwhile, drug, group, eli, lilly, planning,...</td>\n",
       "      <td>[kilroy, launch, veritas, party, exbbc, chat, ...</td>\n",
       "    </tr>\n",
       "    <tr>\n",
       "      <th>2223</th>\n",
       "      <td>[economy, stronger, forecast, uk, economy, pro...</td>\n",
       "      <td>[mpc, judge, overall, growth, little, higher, ...</td>\n",
       "      <td>[budget, bring, smiling, voter, tory, spokesma...</td>\n",
       "    </tr>\n",
       "    <tr>\n",
       "      <th>2224</th>\n",
       "      <td>[u, airway, staff, agree, pay, cut, union, rep...</td>\n",
       "      <td>[seventh, largest, carrier, u, sought, bankrup...</td>\n",
       "      <td>[cage, film, third, week, u, top, nicolas, cag...</td>\n",
       "    </tr>\n",
       "  </tbody>\n",
       "</table>\n",
       "<p>2225 rows × 3 columns</p>\n",
       "</div>"
      ],
      "text/plain": [
       "                                          News Articles  \\\n",
       "0     [think, real, danger, happens, data, cross, ne...   \n",
       "1     [fast, moving, phone, virus, appear, security,...   \n",
       "2     [seaman, sail, biometric, future, luxury, crui...   \n",
       "3     [cable, offer, videoondemand, cable, firm, ntl...   \n",
       "4     [make, greener, computer, hitech, industry, st...   \n",
       "...                                                 ...   \n",
       "2220  [circuit, city, get, takeover, offer, circuit,...   \n",
       "2221  [german, business, confidence, slide, german, ...   \n",
       "2222  [walmart, fight, back, accuser, two, big, u, n...   \n",
       "2223  [economy, stronger, forecast, uk, economy, pro...   \n",
       "2224  [u, airway, staff, agree, pay, cut, union, rep...   \n",
       "\n",
       "                                                Summary  \\\n",
       "0     [however, careful, may, organisation, trust, p...   \n",
       "1     [new, strain, cabir, mobile, phone, virus, use...   \n",
       "2     [said, french, jordanian, nigerian, national, ...   \n",
       "3     [cable, firm, ntl, telewest, launched, videoon...   \n",
       "4     [seeing, thing, technology, industry, result, ...   \n",
       "...                                                 ...   \n",
       "2220  [bill, armstrong, retail, analyst, cl, king, a...   \n",
       "2221  [analyst, said, ifo, figure, germany, continui...   \n",
       "2222  [meanwhile, drug, group, eli, lilly, planning,...   \n",
       "2223  [mpc, judge, overall, growth, little, higher, ...   \n",
       "2224  [seventh, largest, carrier, u, sought, bankrup...   \n",
       "\n",
       "                                                 Unlike  \n",
       "0     [eu, aiming, fuel, development, aid, european,...  \n",
       "1     [uk, house, price, dip, november, uk, house, p...  \n",
       "2     [redknapp, poised, saint, southampton, set, un...  \n",
       "3     [green, report, shun, supply, chain, nearly, 2...  \n",
       "4     [adrianos, chelsea, link, rejected, adrianos, ...  \n",
       "...                                                 ...  \n",
       "2220  [roddick, san, jose, final, andy, roddick, pla...  \n",
       "2221  [richard, judy, choose, top, book, 10, author,...  \n",
       "2222  [kilroy, launch, veritas, party, exbbc, chat, ...  \n",
       "2223  [budget, bring, smiling, voter, tory, spokesma...  \n",
       "2224  [cage, film, third, week, u, top, nicolas, cag...  \n",
       "\n",
       "[2225 rows x 3 columns]"
      ]
     },
     "execution_count": 2,
     "metadata": {},
     "output_type": "execute_result"
    }
   ],
   "source": [
    "data = pd.read_csv(\"preprocessed_data.csv\")\n",
    "data.drop(\"Unnamed: 0\", axis=1, inplace=True)\n",
    "\n",
    "def revert(sentence):\n",
    "    x = sentence.split(\"^\")\n",
    "    return [i.split(\"%\") for i in x]\n",
    "\n",
    "def flatten(text):\n",
    "    x = []\n",
    "    for sentence in text:\n",
    "        x += sentence\n",
    "    return x\n",
    "\n",
    "data[\"News Articles\"] = data[\"News Articles\"].apply(revert)\n",
    "data[\"Summary\"] = data[\"Summary\"].apply(revert)\n",
    "data[\"Unlike\"] = data[\"Unlike\"].apply(revert)\n",
    "\n",
    "data[\"News Articles\"] = data[\"News Articles\"].apply(flatten)\n",
    "data[\"Summary\"] = data[\"Summary\"].apply(flatten)\n",
    "data[\"Unlike\"] = data[\"Unlike\"].apply(flatten)\n",
    "\n",
    "data"
   ]
  },
  {
   "cell_type": "code",
   "execution_count": 3,
   "id": "3b62a431",
   "metadata": {},
   "outputs": [],
   "source": [
    "def fasttext_training(tmp):\n",
    "    model_type = \"skipgram\"\n",
    "    x = \"\"\n",
    "    for i in [\"News Articles\", \"Summary\",\"Unlike\"]:\n",
    "        s = []\n",
    "        for j in tmp[i]:\n",
    "            s.append(\" \".join(j))\n",
    "        x += \" \".join(s)\n",
    "    with open(\"fastext_data.txt\",\"w\") as f:\n",
    "        f.write(x)\n",
    "    return fasttext.train_unsupervised('fastext_data.txt', model=model_type)"
   ]
  },
  {
   "cell_type": "code",
   "execution_count": 4,
   "id": "4eab9875",
   "metadata": {},
   "outputs": [
    {
     "name": "stderr",
     "output_type": "stream",
     "text": [
      "Read 1M words\n",
      "Number of words:  16839\n",
      "Number of labels: 0\n",
      "Progress: 100.0% words/sec/thread:   24305 lr:  0.000000 avg.loss:  2.023170 ETA:   0h 0m 0s\n"
     ]
    }
   ],
   "source": [
    "embedding_model = fasttext_training(data)"
   ]
  },
  {
   "cell_type": "code",
   "execution_count": 5,
   "id": "ed794d52",
   "metadata": {},
   "outputs": [
    {
     "data": {
      "text/plain": [
       "2440"
      ]
     },
     "execution_count": 5,
     "metadata": {},
     "output_type": "execute_result"
    }
   ],
   "source": [
    "f = 0\n",
    "c = \"\"\n",
    "for i in data.columns:\n",
    "    for j in data[i]:\n",
    "        if f<len(j):\n",
    "            f = len(j)\n",
    "            c = j\n",
    "f"
   ]
  },
  {
   "cell_type": "code",
   "execution_count": 6,
   "id": "84fb435a",
   "metadata": {},
   "outputs": [],
   "source": [
    "def pad_words(sentence):\n",
    "    l = 2440\n",
    "    n = [\"_\" for i in range(l-len(sentence))]\n",
    "    if sentence == []:\n",
    "        return n\n",
    "    return n[:len(n)//2] + sentence + n[len(n)//2:]"
   ]
  },
  {
   "cell_type": "code",
   "execution_count": 7,
   "id": "3d25b5a6",
   "metadata": {},
   "outputs": [],
   "source": [
    "data[\"P News Articles\"] = data[\"News Articles\"].apply(pad_words)\n",
    "data[\"P Summary\"] = data[\"Summary\"].apply(pad_words)\n",
    "data[\"P Unlike\"] = data[\"Unlike\"].apply(pad_words)"
   ]
  },
  {
   "cell_type": "code",
   "execution_count": 8,
   "id": "84d2ef0b",
   "metadata": {},
   "outputs": [],
   "source": [
    "def embed(text):\n",
    "    embedding = []\n",
    "    for i in text:\n",
    "        embedding.append(embedding_model[i])\n",
    "    return embedding"
   ]
  },
  {
   "cell_type": "code",
   "execution_count": 9,
   "id": "cb25fbea",
   "metadata": {},
   "outputs": [],
   "source": [
    "data[\"E News Articles\"] = data[\"P News Articles\"].apply(embed)\n",
    "data[\"E Summary\"] = data[\"P Summary\"].apply(embed)\n",
    "data[\"E Unlike\"] = data[\"P Unlike\"].apply(embed)"
   ]
  },
  {
   "cell_type": "code",
   "execution_count": 10,
   "id": "f11804b7",
   "metadata": {},
   "outputs": [],
   "source": [
    "data.drop([i for i in data.columns if i[0]!=\"E\"], axis=1, inplace=True)\n",
    "data = data[data.columns][:100]"
   ]
  },
  {
   "cell_type": "code",
   "execution_count": 11,
   "id": "f57ea471",
   "metadata": {},
   "outputs": [],
   "source": [
    "x = []\n",
    "y = []\n",
    "\n",
    "for i in range(len(data[\"E News Articles\"])):\n",
    "    x.append(data[\"E News Articles\"][i] + data[\"E News Articles\"][i])\n",
    "    x.append(data[\"E News Articles\"][i] + data[\"E Summary\"][i])\n",
    "    x.append(data[\"E News Articles\"][i] + data[\"E Unlike\"][i])\n",
    "    y.append(1.0)\n",
    "    y.append(0.5)\n",
    "    y.append(0.0)"
   ]
  },
  {
   "cell_type": "code",
   "execution_count": 12,
   "id": "02d660f1",
   "metadata": {},
   "outputs": [],
   "source": [
    "del data"
   ]
  },
  {
   "cell_type": "code",
   "execution_count": 13,
   "id": "98b09285",
   "metadata": {},
   "outputs": [
    {
     "data": {
      "text/plain": [
       "(300, 4880, 100)"
      ]
     },
     "execution_count": 13,
     "metadata": {},
     "output_type": "execute_result"
    }
   ],
   "source": [
    "x = np.asarray(x)\n",
    "x.shape"
   ]
  },
  {
   "cell_type": "code",
   "execution_count": 14,
   "id": "65fc208d",
   "metadata": {},
   "outputs": [],
   "source": [
    "y = np.asarray(y)"
   ]
  },
  {
   "cell_type": "code",
   "execution_count": 15,
   "id": "1ed00bcb",
   "metadata": {},
   "outputs": [],
   "source": [
    "xtr,xt,ytr,yt = train_test_split(x,y,test_size=0.3,random_state=10)"
   ]
  },
  {
   "cell_type": "code",
   "execution_count": 16,
   "id": "f077035f",
   "metadata": {},
   "outputs": [],
   "source": [
    "model = Sequential()\n",
    "model.add(Dense(2440, activation=\"relu\", input_shape=(4880,100)))\n",
    "model.add(Dense(1024, activation=\"relu\"))\n",
    "model.add(Dense(512, activation=\"relu\"))\n",
    "model.add(Dense(128, activation=\"relu\"))\n",
    "model.add(Dense(64, activation=\"relu\"))\n",
    "model.add(Dense(1, activation=\"sigmoid\"))"
   ]
  },
  {
   "cell_type": "code",
   "execution_count": 30,
   "id": "089d8afd",
   "metadata": {},
   "outputs": [],
   "source": [
    "model.compile(loss=\"mean_squared_error\", optimizer=\"adam\",metrics=[\"accuracy\"])"
   ]
  },
  {
   "cell_type": "code",
   "execution_count": 31,
   "id": "b5406431",
   "metadata": {},
   "outputs": [],
   "source": [
    "es = EarlyStopping(monitor=\"val_loss\", mode=\"min\", verbose=1, patience=10)\n",
    "reduce_lr = ReduceLROnPlateau(\n",
    "    monitor=\"val_loss\", factor=0.2, patience=5, min_lr=0.0001\n",
    ")"
   ]
  },
  {
   "cell_type": "code",
   "execution_count": 32,
   "id": "0bfeb045",
   "metadata": {},
   "outputs": [],
   "source": [
    "xtr = np.asarray(xtr)\n",
    "ytr = np.asarray(ytr)"
   ]
  },
  {
   "cell_type": "code",
   "execution_count": 33,
   "id": "913b1c64",
   "metadata": {},
   "outputs": [
    {
     "name": "stdout",
     "output_type": "stream",
     "text": [
      "Epoch 1/100\n",
      "42/42 [==============================] - 81s 2s/step - loss: 0.1742 - accuracy: 0.3628 - val_loss: 0.1790 - val_accuracy: 0.3333 - lr: 0.0010\n",
      "Epoch 2/100\n",
      "42/42 [==============================] - 82s 2s/step - loss: 0.1741 - accuracy: 0.3631 - val_loss: 0.1791 - val_accuracy: 0.3333 - lr: 0.0010\n",
      "Epoch 3/100\n",
      "42/42 [==============================] - 76s 2s/step - loss: 0.1740 - accuracy: 0.3631 - val_loss: 0.1792 - val_accuracy: 0.3333 - lr: 0.0010\n",
      "Epoch 4/100\n",
      "42/42 [==============================] - 78s 2s/step - loss: 0.1740 - accuracy: 0.3631 - val_loss: 0.1792 - val_accuracy: 0.3333 - lr: 0.0010\n",
      "Epoch 5/100\n",
      "42/42 [==============================] - 80s 2s/step - loss: 0.1740 - accuracy: 0.3631 - val_loss: 0.1793 - val_accuracy: 0.3333 - lr: 0.0010\n",
      "Epoch 6/100\n",
      "42/42 [==============================] - 82s 2s/step - loss: 0.1752 - accuracy: 0.3631 - val_loss: 0.1793 - val_accuracy: 0.3333 - lr: 0.0010\n",
      "Epoch 7/100\n",
      "42/42 [==============================] - 84s 2s/step - loss: 0.1741 - accuracy: 0.3631 - val_loss: 0.1791 - val_accuracy: 0.3333 - lr: 2.0000e-04\n",
      "Epoch 8/100\n",
      "42/42 [==============================] - 86s 2s/step - loss: 0.1740 - accuracy: 0.3631 - val_loss: 0.1791 - val_accuracy: 0.3333 - lr: 2.0000e-04\n",
      "Epoch 9/100\n",
      "42/42 [==============================] - 84s 2s/step - loss: 0.1740 - accuracy: 0.3631 - val_loss: 0.1792 - val_accuracy: 0.3333 - lr: 2.0000e-04\n",
      "Epoch 10/100\n",
      "42/42 [==============================] - 85s 2s/step - loss: 0.1739 - accuracy: 0.3631 - val_loss: 0.1792 - val_accuracy: 0.3333 - lr: 2.0000e-04\n",
      "Epoch 11/100\n",
      "42/42 [==============================] - 85s 2s/step - loss: 0.1740 - accuracy: 0.3631 - val_loss: 0.1792 - val_accuracy: 0.3333 - lr: 2.0000e-04\n",
      "Epoch 11: early stopping\n"
     ]
    },
    {
     "data": {
      "text/plain": [
       "<keras.callbacks.History at 0x7ff0ef89b700>"
      ]
     },
     "execution_count": 33,
     "metadata": {},
     "output_type": "execute_result"
    }
   ],
   "source": [
    "model.fit(\n",
    "    xtr,\n",
    "    ytr,\n",
    "    epochs=100,\n",
    "    batch_size=4,\n",
    "    validation_split=0.2,\n",
    "    verbose=1,\n",
    "    callbacks=[es, reduce_lr],\n",
    ")"
   ]
  },
  {
   "cell_type": "code",
   "execution_count": null,
   "id": "b2971425",
   "metadata": {},
   "outputs": [],
   "source": []
  }
 ],
 "metadata": {
  "kernelspec": {
   "display_name": "Python 3 (ipykernel)",
   "language": "python",
   "name": "python3"
  },
  "language_info": {
   "codemirror_mode": {
    "name": "ipython",
    "version": 3
   },
   "file_extension": ".py",
   "mimetype": "text/x-python",
   "name": "python",
   "nbconvert_exporter": "python",
   "pygments_lexer": "ipython3",
   "version": "3.10.6"
  }
 },
 "nbformat": 4,
 "nbformat_minor": 5
}
